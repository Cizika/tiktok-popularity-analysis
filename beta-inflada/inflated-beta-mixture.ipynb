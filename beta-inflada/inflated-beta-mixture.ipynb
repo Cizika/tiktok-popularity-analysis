{
 "cells": [
  {
   "cell_type": "code",
   "execution_count": 2,
   "metadata": {},
   "outputs": [],
   "source": [
    "import numpy as np\n",
    "import pymc as pm\n",
    "import pandas as pd\n",
    "import matplotlib.pyplot as plt\n",
    "import seaborn as sns"
   ]
  },
  {
   "cell_type": "code",
   "execution_count": 3,
   "metadata": {},
   "outputs": [],
   "source": [
    "df = (\n",
    "    pd\n",
    "    .read_csv('https://raw.githubusercontent.com/Cizika/tiktok-popularity-analysis/main/tiktok.csv')\n",
    "    .drop_duplicates('track_id')\n",
    "    .assign(popularity=lambda df_: df_['popularity'] / 100)\n",
    ")"
   ]
  },
  {
   "cell_type": "code",
   "execution_count": 5,
   "metadata": {},
   "outputs": [
    {
     "ename": "ValueError",
     "evalue": "All distributions in comp_dists must be either discrete or continuous.\nSee the following issue for more information: https://github.com/pymc-devs/pymc/issues/4511.",
     "output_type": "error",
     "traceback": [
      "\u001b[0;31m---------------------------------------------------------------------------\u001b[0m",
      "\u001b[0;31mValueError\u001b[0m                                Traceback (most recent call last)",
      "Cell \u001b[0;32mIn[5], line 16\u001b[0m\n\u001b[1;32m      7\u001b[0m beta \u001b[39m=\u001b[39m pm\u001b[39m.\u001b[39mHalfNormal(\u001b[39m'\u001b[39m\u001b[39mbeta\u001b[39m\u001b[39m'\u001b[39m)\n\u001b[1;32m     11\u001b[0m components \u001b[39m=\u001b[39m [\n\u001b[1;32m     12\u001b[0m     pm\u001b[39m.\u001b[39mBernoulli\u001b[39m.\u001b[39mdist(p\u001b[39m=\u001b[39mp),\n\u001b[1;32m     13\u001b[0m     pm\u001b[39m.\u001b[39mBeta\u001b[39m.\u001b[39mdist(alpha\u001b[39m=\u001b[39malpha, beta\u001b[39m=\u001b[39mbeta)\n\u001b[1;32m     14\u001b[0m ]\n\u001b[0;32m---> 16\u001b[0m like \u001b[39m=\u001b[39m pm\u001b[39m.\u001b[39;49mMixture(\u001b[39m'\u001b[39;49m\u001b[39mlike\u001b[39;49m\u001b[39m'\u001b[39;49m, w\u001b[39m=\u001b[39;49mw, comp_dists\u001b[39m=\u001b[39;49mcomponents, observed\u001b[39m=\u001b[39;49mdf[\u001b[39m'\u001b[39;49m\u001b[39mpopularity\u001b[39;49m\u001b[39m'\u001b[39;49m])\n",
      "File \u001b[0;32m~/Documents/ICMC/Disciplinas/202301/SME0852/tiktok-popularity-analysis/.venv/lib/python3.10/site-packages/pymc/distributions/distribution.py:310\u001b[0m, in \u001b[0;36mDistribution.__new__\u001b[0;34m(cls, name, rng, dims, initval, observed, total_size, transform, *args, **kwargs)\u001b[0m\n\u001b[1;32m    307\u001b[0m     \u001b[39melif\u001b[39;00m observed \u001b[39mis\u001b[39;00m \u001b[39mnot\u001b[39;00m \u001b[39mNone\u001b[39;00m:\n\u001b[1;32m    308\u001b[0m         kwargs[\u001b[39m\"\u001b[39m\u001b[39mshape\u001b[39m\u001b[39m\"\u001b[39m] \u001b[39m=\u001b[39m \u001b[39mtuple\u001b[39m(observed\u001b[39m.\u001b[39mshape)\n\u001b[0;32m--> 310\u001b[0m rv_out \u001b[39m=\u001b[39m \u001b[39mcls\u001b[39;49m\u001b[39m.\u001b[39;49mdist(\u001b[39m*\u001b[39;49margs, \u001b[39m*\u001b[39;49m\u001b[39m*\u001b[39;49mkwargs)\n\u001b[1;32m    312\u001b[0m rv_out \u001b[39m=\u001b[39m model\u001b[39m.\u001b[39mregister_rv(\n\u001b[1;32m    313\u001b[0m     rv_out,\n\u001b[1;32m    314\u001b[0m     name,\n\u001b[0;32m   (...)\u001b[0m\n\u001b[1;32m    319\u001b[0m     initval\u001b[39m=\u001b[39minitval,\n\u001b[1;32m    320\u001b[0m )\n\u001b[1;32m    322\u001b[0m \u001b[39m# add in pretty-printing support\u001b[39;00m\n",
      "File \u001b[0;32m~/Documents/ICMC/Disciplinas/202301/SME0852/tiktok-popularity-analysis/.venv/lib/python3.10/site-packages/pymc/distributions/mixture.py:183\u001b[0m, in \u001b[0;36mMixture.dist\u001b[0;34m(cls, w, comp_dists, **kwargs)\u001b[0m\n\u001b[1;32m    178\u001b[0m \u001b[39mif\u001b[39;00m \u001b[39mlen\u001b[39m(comp_dists) \u001b[39m>\u001b[39m \u001b[39m1\u001b[39m:\n\u001b[1;32m    179\u001b[0m     \u001b[39mif\u001b[39;00m \u001b[39mnot\u001b[39;00m (\n\u001b[1;32m    180\u001b[0m         \u001b[39mall\u001b[39m(comp_dist\u001b[39m.\u001b[39mdtype \u001b[39min\u001b[39;00m continuous_types \u001b[39mfor\u001b[39;00m comp_dist \u001b[39min\u001b[39;00m comp_dists)\n\u001b[1;32m    181\u001b[0m         \u001b[39mor\u001b[39;00m \u001b[39mall\u001b[39m(comp_dist\u001b[39m.\u001b[39mdtype \u001b[39min\u001b[39;00m discrete_types \u001b[39mfor\u001b[39;00m comp_dist \u001b[39min\u001b[39;00m comp_dists)\n\u001b[1;32m    182\u001b[0m     ):\n\u001b[0;32m--> 183\u001b[0m         \u001b[39mraise\u001b[39;00m \u001b[39mValueError\u001b[39;00m(\n\u001b[1;32m    184\u001b[0m             \u001b[39m\"\u001b[39m\u001b[39mAll distributions in comp_dists must be either discrete or continuous.\u001b[39m\u001b[39m\\n\u001b[39;00m\u001b[39m\"\u001b[39m\n\u001b[1;32m    185\u001b[0m             \u001b[39m\"\u001b[39m\u001b[39mSee the following issue for more information: https://github.com/pymc-devs/pymc/issues/4511.\u001b[39m\u001b[39m\"\u001b[39m\n\u001b[1;32m    186\u001b[0m         )\n\u001b[1;32m    188\u001b[0m \u001b[39m# Check that components are not associated with a registered variable in the model\u001b[39;00m\n\u001b[1;32m    189\u001b[0m components_ndim_supp \u001b[39m=\u001b[39m \u001b[39mset\u001b[39m()\n",
      "\u001b[0;31mValueError\u001b[0m: All distributions in comp_dists must be either discrete or continuous.\nSee the following issue for more information: https://github.com/pymc-devs/pymc/issues/4511."
     ]
    }
   ],
   "source": [
    "with pm.Model() as zero_one_inflated_beta:\n",
    "    w = pm.Uniform('weights', shape=2)\n",
    "\n",
    "    p = pm.Uniform('p')\n",
    "    \n",
    "    alpha = pm.HalfNormal('alpha')\n",
    "    beta = pm.HalfNormal('beta')\n",
    "\n",
    "\n",
    "\n",
    "    components = [\n",
    "        pm.Bernoulli.dist(p=p),\n",
    "        pm.Beta.dist(alpha=alpha, beta=beta)\n",
    "    ]\n",
    "\n",
    "    like = pm.Mixture('like', w=w, comp_dists=components, observed=df['popularity'])"
   ]
  }
 ],
 "metadata": {
  "kernelspec": {
   "display_name": "tiktok-analysis",
   "language": "python",
   "name": "tiktok-analysis"
  },
  "language_info": {
   "codemirror_mode": {
    "name": "ipython",
    "version": 3
   },
   "file_extension": ".py",
   "mimetype": "text/x-python",
   "name": "python",
   "nbconvert_exporter": "python",
   "pygments_lexer": "ipython3",
   "version": "3.10.6"
  },
  "orig_nbformat": 4
 },
 "nbformat": 4,
 "nbformat_minor": 2
}
